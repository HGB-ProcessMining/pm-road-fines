{
 "cells": [
  {
   "cell_type": "code",
   "execution_count": 1,
   "metadata": {},
   "outputs": [],
   "source": [
    "# next step: make script to run all the code in one go\n",
    "\n",
    "import pandas as pd\n",
    "import os\n",
    "import pm4py\n",
    "import pandas as pd\n",
    "import matplotlib.pyplot as plt\n",
    "import plotly.express as px\n",
    "import os\n",
    "from imblearn.over_sampling import SMOTE\n",
    "from sklearn.preprocessing import StandardScaler\n",
    "from sklearn.decomposition import PCA\n",
    "\n"
   ]
  },
  {
   "cell_type": "code",
   "execution_count": 2,
   "metadata": {},
   "outputs": [],
   "source": [
    "os.chdir(r\"C:\\Users\\PhilippKastenhofer\\repositories\\pm-road-fines\")\n",
    "\n",
    "#log = pm4py.read_xes('data/Road_Traffic_Fine_Management_Process_cleaned.xes')\n",
    "#df = pm4py.convert_to_dataframe(log)\n",
    "labels = pd.read_csv(\"data/paid.csv\").set_index(\"case:concept:name\")\n",
    "X0 = pd.read_csv(\"data/0_data.csv\").set_index(\"case:concept:name\")\n",
    "#join X0 and y\n",
    "data = X0.join(labels)"
   ]
  },
  {
   "cell_type": "code",
   "execution_count": 130,
   "metadata": {},
   "outputs": [],
   "source": [
    "#df.groupby(\"case:concept:name\").get_group(\"A100\")\n",
    "#create a new column where diff is catagorized\n"
   ]
  },
  {
   "cell_type": "code",
   "execution_count": 3,
   "metadata": {},
   "outputs": [
    {
     "data": {
      "text/plain": [
       "0    65633\n",
       "1    61329\n",
       "Name: cat_diff, dtype: int64"
      ]
     },
     "execution_count": 3,
     "metadata": {},
     "output_type": "execute_result"
    }
   ],
   "source": [
    "\n",
    "data[\"cat_diff\"] = pd.cut(data[\"diff\"], bins=[-10000,+10,10000], labels=[1,0])\n",
    "data[\"cat_diff\"]\n",
    "data[\"cat_diff\"].value_counts()\n"
   ]
  },
  {
   "cell_type": "code",
   "execution_count": 4,
   "metadata": {},
   "outputs": [],
   "source": [
    "data.columns\n",
    "numeric_features = [ \"points\"]\n",
    "categorical_features = [\"vehicleClass\", \"article\" ]\n",
    "timestamp_features = [\"time:timestamp\"]\n",
    "target = \"cat_diff\"\n",
    "\n"
   ]
  },
  {
   "cell_type": "code",
   "execution_count": 5,
   "metadata": {},
   "outputs": [
    {
     "data": {
      "text/plain": [
       "case:concept:name\n",
       "A100      0\n",
       "A10000    1\n",
       "A10001    0\n",
       "A10004    0\n",
       "A10005    1\n",
       "         ..\n",
       "V9995     0\n",
       "V9996     1\n",
       "V9997     0\n",
       "V9998     0\n",
       "V9999     0\n",
       "Name: cat_diff, Length: 126962, dtype: category\n",
       "Categories (2, int64): [1 < 0]"
      ]
     },
     "execution_count": 5,
     "metadata": {},
     "output_type": "execute_result"
    }
   ],
   "source": [
    "X = data[numeric_features + categorical_features + timestamp_features]\n",
    "y = data[target]\n",
    "\n",
    "#get dummies of categorical features\n",
    "X = pd.get_dummies(X, columns=categorical_features)\n",
    "#convert timestamp to datetime\n",
    "X[\"time:timestamp\"] = pd.to_datetime(X[\"time:timestamp\"])\n",
    "#extract features from timestamp, utc = true\n",
    "\n",
    "X[\"year\"] = pd.to_datetime(X[\"time:timestamp\"], utc=True).dt.year\n",
    "X[\"month\"] = pd.to_datetime(X[\"time:timestamp\"], utc=True).dt.month\n",
    "X[\"day\"] = pd.to_datetime(X[\"time:timestamp\"], utc=True).dt.day\n",
    "X[\"hour\"] = pd.to_datetime(X[\"time:timestamp\"], utc=True).dt.hour\n",
    "X[\"weekday\"] = pd.to_datetime(X[\"time:timestamp\"], utc=True).dt.weekday\n",
    "#drop timestamp\n",
    "X = X.drop(\"time:timestamp\", axis=1)\n",
    "\n",
    "#standar scale numeric features\n",
    "from sklearn.preprocessing import StandardScaler\n",
    "scaler = StandardScaler()\n",
    "X = scaler.fit_transform(X)\n",
    "pca = PCA(n_components=0.9)\n",
    "X = pca.fit_transform(X)\n",
    "y"
   ]
  },
  {
   "cell_type": "code",
   "execution_count": 10,
   "metadata": {},
   "outputs": [],
   "source": [
    "#split data into train and test\n",
    "from sklearn.model_selection import train_test_split\n",
    "X_train, X_test, y_train, y_test = train_test_split(X, y, test_size=0.2, random_state=42)\n",
    "y_test\n",
    "\n",
    "test_indices = y_test.index.to_list()\n",
    "#save test indices\n",
    "test_data = pd.DataFrame(test_indices)#.to_csv(\"data/test_indices.csv\", index=False)\n",
    "test_data.columns = [\"case:concept:name\"]\n",
    "test_data.to_csv(\"data/test_indices.csv\", index=False)"
   ]
  },
  {
   "cell_type": "code",
   "execution_count": 135,
   "metadata": {},
   "outputs": [
    {
     "data": {
      "text/html": [
       "<style>#sk-container-id-11 {color: black;background-color: white;}#sk-container-id-11 pre{padding: 0;}#sk-container-id-11 div.sk-toggleable {background-color: white;}#sk-container-id-11 label.sk-toggleable__label {cursor: pointer;display: block;width: 100%;margin-bottom: 0;padding: 0.3em;box-sizing: border-box;text-align: center;}#sk-container-id-11 label.sk-toggleable__label-arrow:before {content: \"▸\";float: left;margin-right: 0.25em;color: #696969;}#sk-container-id-11 label.sk-toggleable__label-arrow:hover:before {color: black;}#sk-container-id-11 div.sk-estimator:hover label.sk-toggleable__label-arrow:before {color: black;}#sk-container-id-11 div.sk-toggleable__content {max-height: 0;max-width: 0;overflow: hidden;text-align: left;background-color: #f0f8ff;}#sk-container-id-11 div.sk-toggleable__content pre {margin: 0.2em;color: black;border-radius: 0.25em;background-color: #f0f8ff;}#sk-container-id-11 input.sk-toggleable__control:checked~div.sk-toggleable__content {max-height: 200px;max-width: 100%;overflow: auto;}#sk-container-id-11 input.sk-toggleable__control:checked~label.sk-toggleable__label-arrow:before {content: \"▾\";}#sk-container-id-11 div.sk-estimator input.sk-toggleable__control:checked~label.sk-toggleable__label {background-color: #d4ebff;}#sk-container-id-11 div.sk-label input.sk-toggleable__control:checked~label.sk-toggleable__label {background-color: #d4ebff;}#sk-container-id-11 input.sk-hidden--visually {border: 0;clip: rect(1px 1px 1px 1px);clip: rect(1px, 1px, 1px, 1px);height: 1px;margin: -1px;overflow: hidden;padding: 0;position: absolute;width: 1px;}#sk-container-id-11 div.sk-estimator {font-family: monospace;background-color: #f0f8ff;border: 1px dotted black;border-radius: 0.25em;box-sizing: border-box;margin-bottom: 0.5em;}#sk-container-id-11 div.sk-estimator:hover {background-color: #d4ebff;}#sk-container-id-11 div.sk-parallel-item::after {content: \"\";width: 100%;border-bottom: 1px solid gray;flex-grow: 1;}#sk-container-id-11 div.sk-label:hover label.sk-toggleable__label {background-color: #d4ebff;}#sk-container-id-11 div.sk-serial::before {content: \"\";position: absolute;border-left: 1px solid gray;box-sizing: border-box;top: 0;bottom: 0;left: 50%;z-index: 0;}#sk-container-id-11 div.sk-serial {display: flex;flex-direction: column;align-items: center;background-color: white;padding-right: 0.2em;padding-left: 0.2em;position: relative;}#sk-container-id-11 div.sk-item {position: relative;z-index: 1;}#sk-container-id-11 div.sk-parallel {display: flex;align-items: stretch;justify-content: center;background-color: white;position: relative;}#sk-container-id-11 div.sk-item::before, #sk-container-id-11 div.sk-parallel-item::before {content: \"\";position: absolute;border-left: 1px solid gray;box-sizing: border-box;top: 0;bottom: 0;left: 50%;z-index: -1;}#sk-container-id-11 div.sk-parallel-item {display: flex;flex-direction: column;z-index: 1;position: relative;background-color: white;}#sk-container-id-11 div.sk-parallel-item:first-child::after {align-self: flex-end;width: 50%;}#sk-container-id-11 div.sk-parallel-item:last-child::after {align-self: flex-start;width: 50%;}#sk-container-id-11 div.sk-parallel-item:only-child::after {width: 0;}#sk-container-id-11 div.sk-dashed-wrapped {border: 1px dashed gray;margin: 0 0.4em 0.5em 0.4em;box-sizing: border-box;padding-bottom: 0.4em;background-color: white;}#sk-container-id-11 div.sk-label label {font-family: monospace;font-weight: bold;display: inline-block;line-height: 1.2em;}#sk-container-id-11 div.sk-label-container {text-align: center;}#sk-container-id-11 div.sk-container {/* jupyter's `normalize.less` sets `[hidden] { display: none; }` but bootstrap.min.css set `[hidden] { display: none !important; }` so we also need the `!important` here to be able to override the default hidden behavior on the sphinx rendered scikit-learn.org. See: https://github.com/scikit-learn/scikit-learn/issues/21755 */display: inline-block !important;position: relative;}#sk-container-id-11 div.sk-text-repr-fallback {display: none;}</style><div id=\"sk-container-id-11\" class=\"sk-top-container\"><div class=\"sk-text-repr-fallback\"><pre>RandomForestClassifier(class_weight=&#x27;balanced&#x27;, max_depth=10, n_estimators=1000,\n",
       "                       n_jobs=-1, oob_score=True, random_state=42)</pre><b>In a Jupyter environment, please rerun this cell to show the HTML representation or trust the notebook. <br />On GitHub, the HTML representation is unable to render, please try loading this page with nbviewer.org.</b></div><div class=\"sk-container\" hidden><div class=\"sk-item\"><div class=\"sk-estimator sk-toggleable\"><input class=\"sk-toggleable__control sk-hidden--visually\" id=\"sk-estimator-id-11\" type=\"checkbox\" checked><label for=\"sk-estimator-id-11\" class=\"sk-toggleable__label sk-toggleable__label-arrow\">RandomForestClassifier</label><div class=\"sk-toggleable__content\"><pre>RandomForestClassifier(class_weight=&#x27;balanced&#x27;, max_depth=10, n_estimators=1000,\n",
       "                       n_jobs=-1, oob_score=True, random_state=42)</pre></div></div></div></div></div>"
      ],
      "text/plain": [
       "RandomForestClassifier(class_weight='balanced', max_depth=10, n_estimators=1000,\n",
       "                       n_jobs=-1, oob_score=True, random_state=42)"
      ]
     },
     "execution_count": 135,
     "metadata": {},
     "output_type": "execute_result"
    }
   ],
   "source": []
  },
  {
   "cell_type": "code",
   "execution_count": 146,
   "metadata": {},
   "outputs": [
    {
     "name": "stdout",
     "output_type": "stream",
     "text": [
      "Accuracy:  0.6176505336116253\n",
      "Precision:  0.5793923381770145\n",
      "Recall:  0.7241806323784364\n",
      "F1 0.6437456426815397\n",
      "Accuracy:  0.6367789384556312\n",
      "Precision:  0.6011357668067226\n",
      "Recall:  0.7441888816644994\n",
      "F1 0.6650566531086578\n"
     ]
    },
    {
     "data": {
      "text/html": [
       "<div>\n",
       "<style scoped>\n",
       "    .dataframe tbody tr th:only-of-type {\n",
       "        vertical-align: middle;\n",
       "    }\n",
       "\n",
       "    .dataframe tbody tr th {\n",
       "        vertical-align: top;\n",
       "    }\n",
       "\n",
       "    .dataframe thead th {\n",
       "        text-align: right;\n",
       "    }\n",
       "</style>\n",
       "<table border=\"1\" class=\"dataframe\">\n",
       "  <thead>\n",
       "    <tr style=\"text-align: right;\">\n",
       "      <th></th>\n",
       "      <th>cat_diff</th>\n",
       "      <th>probs</th>\n",
       "    </tr>\n",
       "    <tr>\n",
       "      <th>case:concept:name</th>\n",
       "      <th></th>\n",
       "      <th></th>\n",
       "    </tr>\n",
       "  </thead>\n",
       "  <tbody>\n",
       "    <tr>\n",
       "      <th>S133384</th>\n",
       "      <td>1</td>\n",
       "      <td>0.595546</td>\n",
       "    </tr>\n",
       "    <tr>\n",
       "      <th>A32782</th>\n",
       "      <td>1</td>\n",
       "      <td>0.588469</td>\n",
       "    </tr>\n",
       "    <tr>\n",
       "      <th>A3729</th>\n",
       "      <td>1</td>\n",
       "      <td>0.653025</td>\n",
       "    </tr>\n",
       "    <tr>\n",
       "      <th>S98329</th>\n",
       "      <td>1</td>\n",
       "      <td>0.168358</td>\n",
       "    </tr>\n",
       "    <tr>\n",
       "      <th>N53303</th>\n",
       "      <td>1</td>\n",
       "      <td>0.581288</td>\n",
       "    </tr>\n",
       "    <tr>\n",
       "      <th>...</th>\n",
       "      <td>...</td>\n",
       "      <td>...</td>\n",
       "    </tr>\n",
       "    <tr>\n",
       "      <th>S67290</th>\n",
       "      <td>1</td>\n",
       "      <td>0.417830</td>\n",
       "    </tr>\n",
       "    <tr>\n",
       "      <th>N44895</th>\n",
       "      <td>1</td>\n",
       "      <td>0.479084</td>\n",
       "    </tr>\n",
       "    <tr>\n",
       "      <th>S50624</th>\n",
       "      <td>0</td>\n",
       "      <td>0.394224</td>\n",
       "    </tr>\n",
       "    <tr>\n",
       "      <th>S188827</th>\n",
       "      <td>1</td>\n",
       "      <td>0.829168</td>\n",
       "    </tr>\n",
       "    <tr>\n",
       "      <th>A8890</th>\n",
       "      <td>1</td>\n",
       "      <td>0.619812</td>\n",
       "    </tr>\n",
       "  </tbody>\n",
       "</table>\n",
       "<p>25393 rows × 2 columns</p>\n",
       "</div>"
      ],
      "text/plain": [
       "                  cat_diff     probs\n",
       "case:concept:name                   \n",
       "S133384                  1  0.595546\n",
       "A32782                   1  0.588469\n",
       "A3729                    1  0.653025\n",
       "S98329                   1  0.168358\n",
       "N53303                   1  0.581288\n",
       "...                    ...       ...\n",
       "S67290                   1  0.417830\n",
       "N44895                   1  0.479084\n",
       "S50624                   0  0.394224\n",
       "S188827                  1  0.829168\n",
       "A8890                    1  0.619812\n",
       "\n",
       "[25393 rows x 2 columns]"
      ]
     },
     "execution_count": 146,
     "metadata": {},
     "output_type": "execute_result"
    }
   ],
   "source": [
    "from sklearn.metrics import accuracy_score, precision_score, recall_score, f1_score\n",
    "\n",
    "#apply on test data\n",
    "y_pred = model.predict(X_test)\n",
    "probs = model.predict_proba(X_test)\n",
    "#probs to frame\n",
    "probs = pd.DataFrame(probs)\n",
    "#probs.columns = [\"prob_0\", \"prob_1\"]\n",
    "#evaluate\n",
    "acc = accuracy_score(y_test, y_pred)\n",
    "prec = precision_score(y_test, y_pred)\n",
    "rec = recall_score(y_test, y_pred)\n",
    "f1 = f1_score(y_test, y_pred)\n",
    "\n",
    "print(\"Accuracy: \", acc)\n",
    "print(\"Precision: \", prec)\n",
    "print(\"Recall: \", rec)\n",
    "print(\"F1\", f1)\n",
    "\n",
    "#get also metrics on train data\n",
    "y_pred_train = model.predict(X_train)\n",
    "acc = accuracy_score(y_train, y_pred_train)\n",
    "prec = precision_score(y_train, y_pred_train)\n",
    "rec = recall_score(y_train, y_pred_train)\n",
    "f1 = f1_score(y_train, y_pred_train)\n",
    "\n",
    "\n",
    "print(\"Accuracy: \", acc)\n",
    "print(\"Precision: \", prec)\n",
    "print(\"Recall: \", rec)\n",
    "print(\"F1\", f1)\n",
    "\n",
    "#calculate feature importance\n",
    "feature_importance = pd.DataFrame(\n",
    "    model.feature_importances_, columns=[\"importance\"]\n",
    ")\n",
    "feature_importance = feature_importance.sort_values(\"importance\", ascending=False)\n",
    "feature_importance\n",
    "#set columns of probs\n",
    "probs.columns = [\"paid\", \"not_paid\"]\n",
    "#join probs to y_test\n",
    "y_test_w_probs = y_test.to_frame()\n",
    "y_test_w_probs[\"probs\"] = probs[\"not_paid\"].values\n",
    "y_test_w_probs\n"
   ]
  },
  {
   "cell_type": "code",
   "execution_count": 139,
   "metadata": {},
   "outputs": [
    {
     "data": {
      "image/png": "[encoded data removed]",
      "text/plain": [
       "<Figure size 640x480 with 2 Axes>"
      ]
     },
     "metadata": {},
     "output_type": "display_data"
    },
    {
     "data": {
      "text/plain": [
       "<AxesSubplot:>"
      ]
     },
     "execution_count": 139,
     "metadata": {},
     "output_type": "execute_result"
    },
    {
     "data": {
      "image/png": "[encoded data removed]",
      "text/plain": [
       "<Figure size 640x480 with 2 Axes>"
      ]
     },
     "metadata": {},
     "output_type": "display_data"
    }
   ],
   "source": [
    "#confusion matrix\n",
    "from sklearn.metrics import confusion_matrix\n",
    "import seaborn as sns\n",
    "cm = confusion_matrix(y_test, y_pred)\n",
    "labels = [\"not paid\", \"paid\"]\n",
    "#plot confusion matrix\n",
    "\n",
    "sns.heatmap(cm, annot=True, cmap = \"Blues\", fmt=\"d\", xticklabels=labels, yticklabels=labels)\n",
    "plt.show()\n",
    "\n",
    "#also confusion matrix on train data\n",
    "cm = confusion_matrix(y_train, y_pred_train)\n",
    "#plot confusion matrix\n",
    "sns.heatmap(cm, annot=True, cmap = \"Blues\", fmt=\"d\", xticklabels=labels, yticklabels=labels)"
   ]
  }
 ],
 "metadata": {
  "kernelspec": {
   "display_name": "Python 3.10.4 ('env1')",
   "language": "python",
   "name": "python3"
  },
  "language_info": {
   "codemirror_mode": {
    "name": "ipython",
    "version": 3
   },
   "file_extension": ".py",
   "mimetype": "text/x-python",
   "name": "python",
   "nbconvert_exporter": "python",
   "pygments_lexer": "ipython3",
   "version": "3.10.4"
  },
  "orig_nbformat": 4,
  "vscode": {
   "interpreter": {
    "hash": "a80e9ad2e794b8d5b24627412ce610af1ff7e433959bb7ec899185caf350486c"
   }
  }
 },
 "nbformat": 4,
 "nbformat_minor": 2
}
